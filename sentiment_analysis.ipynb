{
 "cells": [
  {
   "cell_type": "code",
   "execution_count": null,
   "metadata": {},
   "outputs": [
    {
     "name": "stdout",
     "output_type": "stream",
     "text": [
      "Fichier nettoyé et structuré sauvegardé sous : output\n",
      "\n",
      "                  Username                                           Title  \\\n",
      "0              John McLean                                   Utter Rubbish   \n",
      "1    Angry from Manchester              5 5 for the car 0 5 for the dealer   \n",
      "2                  Kevin O          Musk is the most embarrassing man that   \n",
      "3           Andrew Haworth           Put a deposit on a cybertruck 4 years   \n",
      "4               Ahmed Radm         Thanks for the office tomorrow so I can   \n",
      "..                     ...                                             ...   \n",
      "995              Jacques W  Worst customer service in Austin Research Blvd   \n",
      "996          Hamid Naraghi          I am only giving one star because that   \n",
      "997                    ppr                 Tesla Service is extremely poor   \n",
      "998        Steven Girouard                   Tesla is hands down the worst   \n",
      "999                    Don          I really love the Tesla vehicles I own   \n",
      "\n",
      "     Sentiment_TextBlob  Sentiment_VADER  \n",
      "0             -0.078704          -0.6249  \n",
      "1              0.179167           0.9279  \n",
      "2             -0.100000          -0.7778  \n",
      "3             -0.283333          -0.8856  \n",
      "4              0.200000           0.4404  \n",
      "..                  ...              ...  \n",
      "995           -0.220000          -0.9705  \n",
      "996           -0.325000          -0.7538  \n",
      "997            0.074899           0.9856  \n",
      "998           -0.048569          -0.9720  \n",
      "999            0.011883           0.0498  \n",
      "\n",
      "[1000 rows x 4 columns]\n"
     ]
    }
   ],
   "source": [
    "from utils.clean_data import clean_and_structure_data\n",
    "import pandas as pd\n",
    "from textblob import TextBlob\n",
    "from vaderSentiment.vaderSentiment import SentimentIntensityAnalyzer\n",
    "\n",
    "# df = pd.read_csv(\"../Tesla_Trustpilot_Reviews.csv\", delimiter=',')\n",
    "df = clean_and_structure_data(\"Tesla_Trustpilot_Reviews.csv\", \"output\")\n",
    "\n",
    "# Fonction d'analyse de sentiment avec TextBlob\n",
    "def analyze_sentiment_textblob(text):\n",
    "    try:\n",
    "        # Utilisation de TextBlob pour obtenir la polarité (positif, négatif, neutre)\n",
    "        analysis = TextBlob(text)\n",
    "        return analysis.sentiment.polarity\n",
    "    except Exception as e:\n",
    "        print(f\"Erreur dans l'analyse avec TextBlob: {e}\")\n",
    "        return None\n",
    "\n",
    "# Fonction d'analyse de sentiment avec VADER\n",
    "def analyze_sentiment_vader(text):\n",
    "    analyzer = SentimentIntensityAnalyzer()\n",
    "    try:\n",
    "        # Analyser le texte et renvoyer le score de sentiment\n",
    "        sentiment_score = analyzer.polarity_scores(text)\n",
    "        return sentiment_score['compound']  # Renvoie un score global de sentiment\n",
    "    except Exception as e:\n",
    "        print(f\"Erreur dans l'analyse avec VADER: {e}\")\n",
    "        return None\n",
    "\n",
    "# Appliquer les fonctions d'analyse de sentiment sur les données\n",
    "df['Sentiment_TextBlob'] = df['Content'].apply(analyze_sentiment_textblob)\n",
    "df['Sentiment_VADER'] = df['Content'].apply(analyze_sentiment_vader)\n",
    "\n",
    "# Afficher les résultats\n",
    "print(df[['Username', 'Title', 'Sentiment_TextBlob', 'Sentiment_VADER']])\n"
   ]
  }
 ],
 "metadata": {
  "kernelspec": {
   "display_name": ".venv",
   "language": "python",
   "name": "python3"
  },
  "language_info": {
   "codemirror_mode": {
    "name": "ipython",
    "version": 3
   },
   "file_extension": ".py",
   "mimetype": "text/x-python",
   "name": "python",
   "nbconvert_exporter": "python",
   "pygments_lexer": "ipython3",
   "version": "3.12.7"
  }
 },
 "nbformat": 4,
 "nbformat_minor": 2
}
