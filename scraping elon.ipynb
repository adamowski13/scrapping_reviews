{
 "cells": [
  {
   "cell_type": "code",
   "execution_count": null,
   "metadata": {},
   "outputs": [],
   "source": [
    "import requests\n",
    "from bs4 import BeautifulSoup\n",
    "import pandas as pd\n",
    "import time\n",
    "\n"
   ]
  },
  {
   "cell_type": "code",
   "execution_count": null,
   "metadata": {},
   "outputs": [],
   "source": [
    "base_url = \"https://www.trustpilot.com/review/www.teslamotors.com?page=\"\n",
    "review_titles = []\n",
    "review_contents = []\n",
    "ratings = []\n",
    "dates = []\n",
    "usernames = []\n",
    "\n",
    "for page in range(1, 51):  \n",
    "    url = base_url + str(page)\n",
    "    response = requests.get(url)\n",
    "    soup = BeautifulSoup(response.content, 'html.parser')\n",
    "    \n",
    "    reviews = soup.find_all('article', class_='paper_paper__1PY90')\n",
    "    for review in reviews:\n",
    "        title = review.find('h2', class_='typography_heading-s__f7029').text.strip() if review.find('h2', class_='typography_heading-s__f7029') else None\n",
    "        content = review.find('p', class_='typography_body-l__KUYFJ').text.strip() if review.find('p', class_='typography_body-l__KUYFJ') else None\n",
    "        rating = review.find('div', {'data-service-review-rating': True})['data-service-review-rating'] if review.find('div', {'data-service-review-rating': True}) else None\n",
    "        date = review.find('time')['datetime'] if review.find('time') else None\n",
    "        username = review.find('span', class_='typography_heading-xxs__QKBS8').text.strip() if review.find('span', class_='typography_heading-xxs__QKBS8') else None\n",
    "        \n",
    "        review_titles.append(title)\n",
    "        review_contents.append(content)\n",
    "        ratings.append(rating)\n",
    "        dates.append(date)\n",
    "        usernames.append(username)\n",
    "    \n",
    "    # pour pas blockage \n",
    "    time.sleep(2)\n",
    "\n",
    "trustpilot_data = pd.DataFrame({\n",
    "    'Username': usernames,\n",
    "    'Title': review_titles,\n",
    "    'Content': review_contents,\n",
    "    'Rating': ratings,\n",
    "    'Date': dates\n",
    "})\n",
    "trustpilot_data.to_csv('Tesla_Trustpilot_Reviews.csv', index=False, encoding='utf-8-sig')\n"
   ]
  },
  {
   "cell_type": "code",
   "execution_count": null,
   "metadata": {},
   "outputs": [],
   "source": []
  }
 ],
 "metadata": {
  "kernelspec": {
   "display_name": "Python 3",
   "language": "python",
   "name": "python3"
  },
  "language_info": {
   "codemirror_mode": {
    "name": "ipython",
    "version": 3
   },
   "file_extension": ".py",
   "mimetype": "text/x-python",
   "name": "python",
   "nbconvert_exporter": "python",
   "pygments_lexer": "ipython3",
   "version": "3.11.5"
  }
 },
 "nbformat": 4,
 "nbformat_minor": 2
}
