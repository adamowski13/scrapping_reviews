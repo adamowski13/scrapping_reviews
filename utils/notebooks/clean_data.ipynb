{
 "cells": [
  {
   "cell_type": "code",
   "execution_count": null,
   "metadata": {},
   "outputs": [
    {
     "name": "stdout",
     "output_type": "stream",
     "text": [
      "Fichier nettoyé et structuré sauvegardé sous : donnees_nettoyees.csv\n",
      "\n"
     ]
    },
    {
     "name": "stderr",
     "output_type": "stream",
     "text": [
      "<>:56: SyntaxWarning: invalid escape sequence '\\s'\n",
      "<>:56: SyntaxWarning: invalid escape sequence '\\s'\n",
      "C:\\Users\\julie\\AppData\\Local\\Temp\\ipykernel_36104\\3994859521.py:56: SyntaxWarning: invalid escape sequence '\\s'\n",
      "  input_file = \".\\scrapping_reviews\\Tesla_Trustpilot_Reviews.csv\"  # Remplacer par le chemin de votre fichier\n"
     ]
    }
   ],
   "source": [
    "import pandas as pd\n",
    "import re\n",
    "from datetime import datetime\n",
    "\n",
    "# Charger le fichier CSV\n",
    "def load_csv(file_path):\n",
    "    try:\n",
    "        return pd.read_csv(file_path, delimiter=',')\n",
    "    except Exception as e:\n",
    "        print(f\"Erreur lors du chargement du fichier : {e}\")\n",
    "        return None\n",
    "\n",
    "# Nettoyer le texte\n",
    "def clean_text(text):\n",
    "    if pd.isnull(text):\n",
    "        return \"\"\n",
    "    text = re.sub(r\"[^a-zA-Z0-9À-ÿ' ]\", \" \", text)  # Supprimer les caractères spéciaux\n",
    "    text = re.sub(r\"\\s+\", \" \", text).strip()        # Supprimer les espaces multiples\n",
    "    if len(text) > 512:\n",
    "        text = text[:510]  # Truncate to fit model input size\n",
    "    if len(text) < 2:\n",
    "        text += \"N/A\"  # Handle very short or empty reviews\n",
    "    return text\n",
    "\n",
    "# Formater la date\n",
    "def format_date(date_str):\n",
    "    try:\n",
    "        return datetime.strptime(date_str, \"%Y-%m-%dT%H:%M:%S.%fZ\").strftime(\"%Y-%m-%d\")\n",
    "    except Exception:\n",
    "        return None\n",
    "\n",
    "# Nettoyer et structurer les données\n",
    "def clean_and_structure_data(file_path, output_path):\n",
    "\n",
    "    df = load_csv(file_path)\n",
    "    if df is None:\n",
    "        return\n",
    "\n",
    "    required_columns = [\"Username\", \"Title\", \"Content\", \"Rating\", \"Date\"]\n",
    "    for col in required_columns:\n",
    "        if col not in df.columns:\n",
    "            print(f\"Colonne manquante : {col}\")\n",
    "            return\n",
    "\n",
    "    df[\"Username\"] = df[\"Username\"].apply(clean_text)\n",
    "    df[\"Title\"] = df[\"Title\"].apply(clean_text)\n",
    "    df[\"Content\"] = df[\"Content\"].apply(clean_text)\n",
    "    df[\"Date\"] = df[\"Date\"].apply(format_date)\n",
    "    df[\"Rating\"] = pd.to_numeric(df[\"Rating\"], errors=\"coerce\")  # Convertir en numérique\n",
    "    df = df.dropna(subset=[\"Rating\", \"Date\"])  # Supprimer les lignes avec notes ou dates manquantes\n",
    "\n",
    "    # Sauvegarder les données nettoyées dans un nouveau fichier CSV\n",
    "    try:\n",
    "        df.to_csv(output_path, index=False)\n",
    "        print(f\"Fichier nettoyé et structuré sauvegardé sous : {output_path}\\n\")\n",
    "    except Exception as e:\n",
    "        print(f\"Erreur lors de la sauvegarde : {e}\")\n",
    "\n",
    "# Exemple d'utilisation\n",
    "input_file = \".\\scrapping_reviews\\Tesla_Trustpilot_Reviews.csv\"  # Remplacer par le chemin de votre fichier\n",
    "output_file = \"donnees_nettoyees.csv\"\n",
    "clean_and_structure_data(input_file, output_file)\n"
   ]
  }
 ],
 "metadata": {
  "kernelspec": {
   "display_name": ".venv",
   "language": "python",
   "name": "python3"
  },
  "language_info": {
   "codemirror_mode": {
    "name": "ipython",
    "version": 3
   },
   "file_extension": ".py",
   "mimetype": "text/x-python",
   "name": "python",
   "nbconvert_exporter": "python",
   "pygments_lexer": "ipython3",
   "version": "3.12.7"
  }
 },
 "nbformat": 4,
 "nbformat_minor": 2
}
